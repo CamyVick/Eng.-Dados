{
 "cells": [
  {
   "cell_type": "code",
   "execution_count": 118,
   "id": "42ecdba5",
   "metadata": {},
   "outputs": [],
   "source": [
    "import pandas as pd\n",
    "from word2number import w2n\n",
    "from googletrans import Translator\n",
    "import logging"
   ]
  },
  {
   "cell_type": "code",
   "execution_count": 119,
   "id": "9a11d8ba",
   "metadata": {},
   "outputs": [],
   "source": [
    "logging.basicConfig(level=logging.INFO, filename='log', format=\"%(asctime)s - %(filename)s - %(levelname)s - %(message)s\")\n",
    "\n",
    "translator = Translator()\n"
   ]
  },
  {
   "cell_type": "code",
   "execution_count": 120,
   "id": "869540a8",
   "metadata": {},
   "outputs": [
    {
     "name": "stdout",
     "output_type": "stream",
     "text": [
      "     Valor01\n",
      "0   2.000,00\n",
      "1   3.500,00\n",
      "2  12.650,00\n"
     ]
    }
   ],
   "source": [
    "df_ponto = pd.DataFrame({'Valor01':['2.000,00','3.500,00','12.650,00']})\n",
    "print(df_ponto)\n"
   ]
  },
  {
   "cell_type": "code",
   "execution_count": 121,
   "id": "68cf06b1",
   "metadata": {},
   "outputs": [
    {
     "name": "stdout",
     "output_type": "stream",
     "text": [
      "     Valor02\n",
      "0   R$ 2.000\n",
      "1   R$ 3.500\n",
      "2  R$ 12.650\n"
     ]
    }
   ],
   "source": [
    "df_sifrao = pd.DataFrame({'Valor02':['R$ 2.000','R$ 3.500','R$ 12.650']})\n",
    "print(df_sifrao)"
   ]
  },
  {
   "cell_type": "code",
   "execution_count": 122,
   "id": "7bb1de10",
   "metadata": {},
   "outputs": [
    {
     "name": "stdout",
     "output_type": "stream",
     "text": [
      "  Valor03\n",
      "0      2k\n",
      "1    3.5k\n",
      "2  12.65k\n"
     ]
    }
   ],
   "source": [
    "df_sigla = pd.DataFrame({'Valor03':['2k','3.5k','12.65k']})\n",
    "print(df_sigla)"
   ]
  },
  {
   "cell_type": "code",
   "execution_count": 123,
   "id": "90d23ad1",
   "metadata": {},
   "outputs": [
    {
     "name": "stdout",
     "output_type": "stream",
     "text": [
      "                         Valor04\n",
      "0                       dois mil\n",
      "1          três mil e quinhentos\n",
      "2  doze mil seicentos e ciquenta\n"
     ]
    }
   ],
   "source": [
    "df_ext = pd.DataFrame({'Valor04':['dois mil','três mil e quinhentos','doze mil seicentos e ciquenta']})\n",
    "print(df_ext)"
   ]
  },
  {
   "cell_type": "code",
   "execution_count": 124,
   "id": "08935ec0",
   "metadata": {},
   "outputs": [],
   "source": [
    "def retirar_ponto(n):\n",
    "    if pd.isna(n):\n",
    "        return None\n",
    "    n = str(n).strip().lower()\n",
    "    n = n.replace('.','').replace(',','.')\n",
    "    try:\n",
    "        return float(n)\n",
    "    except:\n",
    "        return None"
   ]
  },
  {
   "cell_type": "code",
   "execution_count": 125,
   "id": "e711a75a",
   "metadata": {},
   "outputs": [
    {
     "name": "stdout",
     "output_type": "stream",
     "text": [
      "     Valor01  Corrigido\n",
      "0   2.000,00     2000.0\n",
      "1   3.500,00     3500.0\n",
      "2  12.650,00    12650.0\n"
     ]
    }
   ],
   "source": [
    "for col in df_ponto.columns:\n",
    "    df_ponto['Corrigido'] = df_ponto[col].apply(retirar_ponto)\n",
    "    \n",
    "pd.set_option('display.max_columns', None)\n",
    "print(df_ponto)"
   ]
  },
  {
   "cell_type": "code",
   "execution_count": 126,
   "id": "3ac93f90",
   "metadata": {},
   "outputs": [],
   "source": [
    "def retirar_sifrao(n):\n",
    "    if pd.isna(n):\n",
    "        return None\n",
    "    n = str(n).strip().lower() \n",
    "    n = n.replace('.','').replace(',','.')\n",
    "    n = n.replace('r$','').replace('reais','').strip()\n",
    "    try:\n",
    "        return float(n)\n",
    "    except: \n",
    "        return None"
   ]
  },
  {
   "cell_type": "code",
   "execution_count": 127,
   "id": "2a358b7d",
   "metadata": {},
   "outputs": [
    {
     "name": "stdout",
     "output_type": "stream",
     "text": [
      "     Valor02  Corrigido\n",
      "0   R$ 2.000     2000.0\n",
      "1   R$ 3.500     3500.0\n",
      "2  R$ 12.650    12650.0\n"
     ]
    }
   ],
   "source": [
    "for col in df_sifrao.columns:\n",
    "    df_sifrao['Corrigido'] = df_sifrao[col].apply(retirar_sifrao)\n",
    "\n",
    "pd.set_option('display.max_columns', None)\n",
    "print(df_sifrao)"
   ]
  },
  {
   "cell_type": "code",
   "execution_count": 128,
   "id": "3d69a0d0",
   "metadata": {},
   "outputs": [],
   "source": [
    "def retirar_sigla(n):\n",
    "    if pd.isna(n):\n",
    "        return None\n",
    "    if n.endswith('k'):\n",
    "        return float (n.replace('k',' ')) * 1000\n",
    "    if n.endswith('m'):\n",
    "        return float(n.replace('m','')) * 100000\n"
   ]
  },
  {
   "cell_type": "code",
   "execution_count": 129,
   "id": "713e92f1",
   "metadata": {},
   "outputs": [
    {
     "name": "stdout",
     "output_type": "stream",
     "text": [
      "  Valor03  Corrigido\n",
      "0      2k     2000.0\n",
      "1    3.5k     3500.0\n",
      "2  12.65k    12650.0\n"
     ]
    }
   ],
   "source": [
    "for col in df_sigla.columns:\n",
    "    df_sigla['Corrigido'] = df_sigla[col].apply(retirar_sigla)\n",
    "\n",
    "pd.set_option('display.max_columns',None)\n",
    "print(df_sigla)"
   ]
  },
  {
   "cell_type": "code",
   "execution_count": 130,
   "id": "354870ec",
   "metadata": {},
   "outputs": [],
   "source": [
    "def retirar_ext(n):\n",
    "    if pd.isna(n):\n",
    "        return None\n",
    "    try:\n",
    "        traducao = translator.translate(n, src='pt', dest='en').text\n",
    "        n = w2n.word_to_num(traducao)\n",
    "        return float(n)\n",
    "    except:\n",
    "        pass"
   ]
  },
  {
   "cell_type": "code",
   "execution_count": 131,
   "id": "16bc0436",
   "metadata": {},
   "outputs": [
    {
     "name": "stdout",
     "output_type": "stream",
     "text": [
      "                         Valor04  Corrigido\n",
      "0                       dois mil     2000.0\n",
      "1          três mil e quinhentos     3500.0\n",
      "2  doze mil seicentos e ciquenta    12650.0\n"
     ]
    }
   ],
   "source": [
    "for col in df_ext.columns:\n",
    "    df_ext['Corrigido'] = df_ext[col].apply(retirar_ext)\n",
    "\n",
    "\n",
    "pd.set_option('display.max_columns',None)\n",
    "print(df_ext)\n"
   ]
  },
  {
   "cell_type": "code",
   "execution_count": 132,
   "id": "5a6560ab",
   "metadata": {},
   "outputs": [
    {
     "name": "stdout",
     "output_type": "stream",
     "text": [
      "                         Valor04  Corrigido\n",
      "0                       dois mil     2000.0\n",
      "1          três mil e quinhentos     3500.0\n",
      "2  doze mil seicentos e ciquenta    12650.0\n",
      "\n",
      "\n",
      "     Valor02  Corrigido\n",
      "0   R$ 2.000     2000.0\n",
      "1   R$ 3.500     3500.0\n",
      "2  R$ 12.650    12650.0\n",
      "\n",
      "\n",
      "  Valor03  Corrigido\n",
      "0      2k     2000.0\n",
      "1    3.5k     3500.0\n",
      "2  12.65k    12650.0\n",
      "\n",
      "\n",
      "     Valor01  Corrigido\n",
      "0   2.000,00     2000.0\n",
      "1   3.500,00     3500.0\n",
      "2  12.650,00    12650.0\n"
     ]
    }
   ],
   "source": [
    "print(df_ext)\n",
    "print('\\n')\n",
    "print(df_sifrao)\n",
    "print('\\n')\n",
    "print(df_sigla)\n",
    "print('\\n')\n",
    "print(df_ponto)"
   ]
  }
 ],
 "metadata": {
  "kernelspec": {
   "display_name": "Python 3",
   "language": "python",
   "name": "python3"
  },
  "language_info": {
   "codemirror_mode": {
    "name": "ipython",
    "version": 3
   },
   "file_extension": ".py",
   "mimetype": "text/x-python",
   "name": "python",
   "nbconvert_exporter": "python",
   "pygments_lexer": "ipython3",
   "version": "3.10.11"
  }
 },
 "nbformat": 4,
 "nbformat_minor": 5
}
