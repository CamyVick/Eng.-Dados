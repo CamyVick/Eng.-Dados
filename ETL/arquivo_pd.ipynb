{
 "cells": [
  {
   "cell_type": "code",
   "execution_count": 1,
   "id": "225bc0a3",
   "metadata": {},
   "outputs": [],
   "source": [
    "import pandas as pd\n",
    "import random"
   ]
  },
  {
   "cell_type": "code",
   "execution_count": 2,
   "id": "23179c05",
   "metadata": {},
   "outputs": [],
   "source": [
    "nomes = ['Maria','Pedro','Joao','Ana','Beatriz']\n",
    "regioes = ['SP','RJ','MA','PA','MG']\n",
    "\n",
    "dados = {\n",
    "    'nome': [random.choice(nomes) for _ in range(10)],\n",
    "    'regioes': [random.choice(regioes) for _ in range(10)],\n",
    "    'idade': [random.randint(18,50) for _ in range(10)]\n",
    "}"
   ]
  },
  {
   "cell_type": "code",
   "execution_count": 3,
   "id": "8445bea9",
   "metadata": {},
   "outputs": [
    {
     "name": "stdout",
     "output_type": "stream",
     "text": [
      "      nome regioes  idade\n",
      "0     Joao      SP     22\n",
      "1      Ana      RJ     18\n",
      "2     Joao      SP     29\n",
      "3     Joao      MG     35\n",
      "4     Joao      MA     49\n",
      "5    Maria      SP     48\n",
      "6    Maria      MG     46\n",
      "7  Beatriz      MG     43\n",
      "8      Ana      PA     34\n",
      "9    Pedro      MA     46\n"
     ]
    }
   ],
   "source": [
    "df = pd.DataFrame(dados)\n",
    "print(df)\n"
   ]
  },
  {
   "cell_type": "code",
   "execution_count": 5,
   "id": "4d4dfd5d",
   "metadata": {},
   "outputs": [
    {
     "name": "stdout",
     "output_type": "stream",
     "text": [
      "<class 'pandas.core.frame.DataFrame'>\n",
      "RangeIndex: 10 entries, 0 to 9\n",
      "Data columns (total 3 columns):\n",
      " #   Column   Non-Null Count  Dtype \n",
      "---  ------   --------------  ----- \n",
      " 0   nome     10 non-null     object\n",
      " 1   regioes  10 non-null     object\n",
      " 2   idade    10 non-null     int64 \n",
      "dtypes: int64(1), object(2)\n",
      "memory usage: 368.0+ bytes\n"
     ]
    }
   ],
   "source": [
    "df.info()\n"
   ]
  },
  {
   "cell_type": "code",
   "execution_count": 6,
   "id": "89c8a3af",
   "metadata": {},
   "outputs": [
    {
     "data": {
      "text/html": [
       "<div>\n",
       "<style scoped>\n",
       "    .dataframe tbody tr th:only-of-type {\n",
       "        vertical-align: middle;\n",
       "    }\n",
       "\n",
       "    .dataframe tbody tr th {\n",
       "        vertical-align: top;\n",
       "    }\n",
       "\n",
       "    .dataframe thead th {\n",
       "        text-align: right;\n",
       "    }\n",
       "</style>\n",
       "<table border=\"1\" class=\"dataframe\">\n",
       "  <thead>\n",
       "    <tr style=\"text-align: right;\">\n",
       "      <th></th>\n",
       "      <th>idade</th>\n",
       "    </tr>\n",
       "  </thead>\n",
       "  <tbody>\n",
       "    <tr>\n",
       "      <th>count</th>\n",
       "      <td>10.000000</td>\n",
       "    </tr>\n",
       "    <tr>\n",
       "      <th>mean</th>\n",
       "      <td>37.000000</td>\n",
       "    </tr>\n",
       "    <tr>\n",
       "      <th>std</th>\n",
       "      <td>11.185308</td>\n",
       "    </tr>\n",
       "    <tr>\n",
       "      <th>min</th>\n",
       "      <td>18.000000</td>\n",
       "    </tr>\n",
       "    <tr>\n",
       "      <th>25%</th>\n",
       "      <td>30.250000</td>\n",
       "    </tr>\n",
       "    <tr>\n",
       "      <th>50%</th>\n",
       "      <td>39.000000</td>\n",
       "    </tr>\n",
       "    <tr>\n",
       "      <th>75%</th>\n",
       "      <td>46.000000</td>\n",
       "    </tr>\n",
       "    <tr>\n",
       "      <th>max</th>\n",
       "      <td>49.000000</td>\n",
       "    </tr>\n",
       "  </tbody>\n",
       "</table>\n",
       "</div>"
      ],
      "text/plain": [
       "           idade\n",
       "count  10.000000\n",
       "mean   37.000000\n",
       "std    11.185308\n",
       "min    18.000000\n",
       "25%    30.250000\n",
       "50%    39.000000\n",
       "75%    46.000000\n",
       "max    49.000000"
      ]
     },
     "execution_count": 6,
     "metadata": {},
     "output_type": "execute_result"
    }
   ],
   "source": [
    "df.describe()"
   ]
  },
  {
   "cell_type": "code",
   "execution_count": null,
   "id": "c541e3ec",
   "metadata": {},
   "outputs": [],
   "source": [
    "#Selecoes\n",
    "print(df['nome'].head())\n",
    "print(df[['nome','idade']])"
   ]
  },
  {
   "cell_type": "code",
   "execution_count": null,
   "id": "56f5a7ff",
   "metadata": {},
   "outputs": [
    {
     "name": "stdout",
     "output_type": "stream",
     "text": [
      "      nome regioes  idade\n",
      "3     Joao      MG     35\n",
      "4     Joao      MA     49\n",
      "5    Maria      SP     48\n",
      "6    Maria      MG     46\n",
      "7  Beatriz      MG     43\n",
      "8      Ana      PA     34\n",
      "9    Pedro      MA     46\n"
     ]
    }
   ],
   "source": [
    "#Filtragem\n",
    "print(df[df['idade'] > 30])"
   ]
  },
  {
   "cell_type": "code",
   "execution_count": null,
   "id": "08120310",
   "metadata": {},
   "outputs": [
    {
     "name": "stdout",
     "output_type": "stream",
     "text": [
      "regioes\n",
      "MA    47.500000\n",
      "MG    41.333333\n",
      "PA    34.000000\n",
      "RJ    18.000000\n",
      "SP    33.000000\n",
      "Name: idade, dtype: float64\n"
     ]
    }
   ],
   "source": [
    "#Agrupamento\n",
    "print(df.groupby('regioes')['idade'].mean())"
   ]
  },
  {
   "cell_type": "code",
   "execution_count": null,
   "id": "9cbc6099",
   "metadata": {},
   "outputs": [
    {
     "name": "stdout",
     "output_type": "stream",
     "text": [
      "nome       0\n",
      "regioes    0\n",
      "idade      1\n",
      "dtype: int64\n"
     ]
    }
   ],
   "source": [
    "df.loc[2, \"idade\"] = None  # Simulando dado ausente\n",
    "print(df.isnull().sum())   # Contar nulos\n"
   ]
  }
 ],
 "metadata": {
  "kernelspec": {
   "display_name": "Python 3",
   "language": "python",
   "name": "python3"
  },
  "language_info": {
   "codemirror_mode": {
    "name": "ipython",
    "version": 3
   },
   "file_extension": ".py",
   "mimetype": "text/x-python",
   "name": "python",
   "nbconvert_exporter": "python",
   "pygments_lexer": "ipython3",
   "version": "3.10.11"
  }
 },
 "nbformat": 4,
 "nbformat_minor": 5
}
